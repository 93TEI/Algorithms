{
 "cells": [
  {
   "cell_type": "code",
   "execution_count": null,
   "metadata": {},
   "outputs": [],
   "source": [
    "import math\n",
    "import os\n",
    "import random\n",
    "import re\n",
    "import sys\n",
    "\n",
    "# Complete the diagonalDifference function below.\n",
    "def diagonalDifference(arr):\n",
    "    left=0\n",
    "    right=0 \n",
    "    end=len(arr)\n",
    "    for i in range(0,end) :\n",
    "        left += arr[i][i]\n",
    "        right += arr[i][end-i-1]\n",
    "    compareLR = [left,right]\n",
    "    return max(compareLR) - min(compareLR)\n",
    "\n",
    "if __name__ == '__main__':\n",
    "    fptr = open(os.environ['OUTPUT_PATH'], 'w')\n",
    "    n = int(input())\n",
    "    arr = []\n",
    "    for _ in range(n):\n",
    "        arr.append(list(map(int, input().rstrip().split())))\n",
    "    result = diagonalDifference(arr)\n",
    "    fptr.write(str(result) + '\\n')\n",
    "    fptr.close()"
   ]
  }
 ],
 "metadata": {
  "kernelspec": {
   "display_name": "Python 3",
   "language": "python",
   "name": "python3"
  },
  "language_info": {
   "codemirror_mode": {
    "name": "ipython",
    "version": 3
   },
   "file_extension": ".py",
   "mimetype": "text/x-python",
   "name": "python",
   "nbconvert_exporter": "python",
   "pygments_lexer": "ipython3",
   "version": "3.7.1"
  }
 },
 "nbformat": 4,
 "nbformat_minor": 2
}
