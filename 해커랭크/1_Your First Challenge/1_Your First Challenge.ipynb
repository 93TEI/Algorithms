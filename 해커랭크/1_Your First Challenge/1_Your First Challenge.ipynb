{
 "cells": [
  {
   "cell_type": "code",
   "execution_count": 1,
   "metadata": {},
   "outputs": [
    {
     "name": "stdout",
     "output_type": "stream",
     "text": [
      "2\n",
      "3\n",
      "5\n"
     ]
    }
   ],
   "source": [
    "'''\n",
    "This is an introductory challenge to help you get familiar with the HackerRank coding environment.\n",
    "Complete the function solveMeFirst to compute the sum of two integers.\n",
    "\n",
    "Function prototype:\n",
    "\n",
    "int solveMeFirst(int a, int b);\n",
    "\n",
    "where,\n",
    "\n",
    "a is the first integer input.\n",
    "b is the second integer input\n",
    "Return values\n",
    "\n",
    "sum of the above two integers\n",
    "Sample Input\n",
    "\n",
    "a = 2\n",
    "b = 3\n",
    "\n",
    "Sample Output\n",
    "\n",
    "5\n",
    "'''\n",
    "\n",
    "def solveMeFirst(a,b):\n",
    "    return a+b\n",
    "\n",
    "\n",
    "num1 = int(input())\n",
    "num2 = int(input())\n",
    "res = solveMeFirst(num1,num2)\n",
    "print(res)\n"
   ]
  },
  {
   "cell_type": "code",
   "execution_count": null,
   "metadata": {},
   "outputs": [],
   "source": []
  }
 ],
 "metadata": {
  "kernelspec": {
   "display_name": "Python 3",
   "language": "python",
   "name": "python3"
  },
  "language_info": {
   "codemirror_mode": {
    "name": "ipython",
    "version": 3
   },
   "file_extension": ".py",
   "mimetype": "text/x-python",
   "name": "python",
   "nbconvert_exporter": "python",
   "pygments_lexer": "ipython3",
   "version": "3.6.6"
  }
 },
 "nbformat": 4,
 "nbformat_minor": 2
}
