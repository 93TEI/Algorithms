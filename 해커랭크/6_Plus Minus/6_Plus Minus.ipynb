{
 "cells": [
  {
   "cell_type": "code",
   "execution_count": 26,
   "metadata": {},
   "outputs": [
    {
     "name": "stdout",
     "output_type": "stream",
     "text": [
      "[0.5, 0.3333333333333333, 0.16666666666666666]\n"
     ]
    }
   ],
   "source": [
    "#!/bin/python3\n",
    "\n",
    "import math\n",
    "import os\n",
    "import random\n",
    "import re\n",
    "import sys\n",
    "\n",
    "# Complete the plusMinus function below.\n",
    "def plusMinus(arr):\n",
    "    lenArr = len(arr)\n",
    "    plus = [arr[i] for i in range(0,lenArr) if arr[i] > 0]\n",
    "    minus = [arr[i] for i in range(0,lenArr) if arr[i] < 0]\n",
    "    zero = lenArr - len(plus+minus)\n",
    "\n",
    "    result = [len(plus)/lenArr, len(minus)/lenArr, zero/lenArr]\n",
    "    #zero는 이미 int형이었기 때문에 len(zero)를 했을 때 에러가 났던 것\n",
    "    for i in range(0,lenArr):\n",
    "        print(result[i])\n",
    "    #for문은 답 형식을 맞추기 위해서 리스트 출력하지 않고 반복문을 쓴 것\n",
    "\n",
    "if __name__ == '__main__':\n",
    "    n = int(input())\n",
    "\n",
    "    arr = list(map(int, input().rstrip().split()))\n",
    "\n",
    "    plusMinus(arr)\n"
   ]
  },
  {
   "cell_type": "code",
   "execution_count": null,
   "metadata": {},
   "outputs": [],
   "source": []
  }
 ],
 "metadata": {
  "kernelspec": {
   "display_name": "Python 3",
   "language": "python",
   "name": "python3"
  },
  "language_info": {
   "codemirror_mode": {
    "name": "ipython",
    "version": 3
   },
   "file_extension": ".py",
   "mimetype": "text/x-python",
   "name": "python",
   "nbconvert_exporter": "python",
   "pygments_lexer": "ipython3",
   "version": "3.7.1"
  }
 },
 "nbformat": 4,
 "nbformat_minor": 2
}
